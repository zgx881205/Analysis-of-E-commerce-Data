{
 "cells": [
  {
   "cell_type": "code",
   "execution_count": 2,
   "id": "8dbd22d4",
   "metadata": {},
   "outputs": [
    {
     "name": "stdout",
     "output_type": "stream",
     "text": [
      "Your input is: [1.2 1. ] and classified to class:  A\n",
      "Your input is: [0.1 0.3] and classified to class:  B\n"
     ]
    }
   ],
   "source": [
    "import pandas as pd\n",
    "import numpy as np\n",
    "\n",
    "import matplotlib as mpl\n",
    "import matplotlib.pyplot as plt\n",
    "\n",
    "# 计算欧式距离，即两点间的直线距离 \n",
    "#参数：vector1-List列表，n维属性坐标值构成的向量\n",
    "#      vector2-List列表，n维属性坐标值构成的向量\n",
    "#返回值：浮点数，欧式距离\n",
    "def euclDistance(vector1, vector2):  \n",
    "    return np.sqrt(np.sum(np.power(vector2 - vector1, 2)))  \n",
    "\n",
    "# 创建一个数据集，包含2个类别共8个样本\n",
    "def createDataSet():\n",
    "# 生成一个矩阵，每行表示一个样本\n",
    "    group = np.array([[1.0,0.9], [1.0,1.0], [0.8,0.9], [0.6,0.65],\n",
    "    [0.1, 0.2], [0.3,0.4], [0.2,0.3], [0.0, 0.1]])\n",
    "# 监督学习，手工设置8个样本所属的类别标签\n",
    "    labels = ['A', 'A','A', 'A', 'B', 'B','B', 'B']\n",
    "    return group, labels\n",
    "\n",
    "# KNN分类算法函数实现\n",
    "#参数：newInput-List列表，待分类的数据点\n",
    "#      dataSet-List列表，已分类点坐标\n",
    "#      lables-List列表，分类标签\n",
    "#      k-整数，近邻数量\n",
    "#返回值：maxIndex-字符，分类结果\n",
    "def kNNClassify(newInput, dataSet, labels, k):\n",
    "    numSamples = dataSet.shape[0]   # shape[0]表示行数\n",
    "    distance = []\n",
    "#计算newInput与dataSet中个点的距离，放入distance列表内\n",
    "    for vec in dataSet:\n",
    "        distance.append(euclDistance(newInput,vec))        \n",
    "#对距离排序\n",
    "    sortedDistIndices = np.argsort(distance)\n",
    "    classCount = {}\n",
    "#选择k个最近邻\n",
    "    for i in range(k):\n",
    "        voteLabel = labels[sortedDistIndices[i]]\n",
    "        classCount[voteLabel] = classCount.get(voteLabel, 0) + 1\n",
    "    maxCount = 0\n",
    "    for key, value in classCount.items():\n",
    "        if value > maxCount:\n",
    "            maxCount = value\n",
    "            maxIndex = key\n",
    "    return maxIndex\n",
    "\n",
    "# 生成数据集和类别标签\n",
    "dataSet, labels = createDataSet()\n",
    "#K取值3，调用K近邻分类算法\n",
    "k = 3\n",
    "#对testX进行分类\n",
    "testX = np.array([1.2, 1.0])\n",
    "outputLabel = kNNClassify(testX, dataSet, labels, 3)\n",
    "print( \"Your input is:\", testX, \"and classified to class: \", outputLabel)\n",
    "#对testY进行分类\n",
    "testY = np.array([0.1, 0.3])\n",
    "outputLabel = kNNClassify(testY, dataSet, labels, 3)\n",
    "print(\"Your input is:\", testY, \"and classified to class: \", outputLabel)"
   ]
  },
  {
   "cell_type": "code",
   "execution_count": 1,
   "id": "96ffbc78",
   "metadata": {},
   "outputs": [
    {
     "name": "stdout",
     "output_type": "stream",
     "text": [
      "读入的数据文件首5行：\n",
      "    客户ID  工龄  岗位性质  教育程度  婚姻状态 销售结果\n",
      "0  10001   1     2     1     1    N\n",
      "1  10002   1     2     3     1    N\n",
      "2  10003   1     3     4     1    Y\n",
      "3  10004   4     2     2     1    Y\n",
      "4  10005   1     1     3     2    Y\n",
      "转化后的2维列表前5项：\n",
      "[[1, 2, 1, 1, 'N'], [1, 2, 3, 1, 'N'], [1, 3, 4, 1, 'Y'], [4, 2, 2, 1, 'Y']]\n",
      "['工龄', '工作性质', '教育程度', '婚姻状况']\n",
      "理财产品促销客户1预测结果:\n",
      "{'Y': 0.000943, 'N': 0.0}\n",
      "理财产品促销客户2预测结果:\n",
      "{'Y': 0.002475, 'N': 0.045776}\n"
     ]
    }
   ],
   "source": [
    "import numpy as np\n",
    "import pandas as pd\n",
    "\n",
    "#读取excel文件，将原来二值表格转换为2维列表，用于后续处理\n",
    "#参数：fname-excel文件名\n",
    "#返回值：data2Dlist-2维列表\n",
    "def loadExcel(fname):\n",
    "    data2Dlist=[]\n",
    "    pd1 = pd.read_excel(fname,'Sheet1')\n",
    "    print('读入的数据文件首5行：')\n",
    "    print(pd1.head())\n",
    "    for index ,row in pd1.iterrows():\n",
    "        list1 = row.tolist()\n",
    "        list1.pop(0)\n",
    "        data2Dlist.append(list1)\n",
    "#显示2维列表前5项\n",
    "    print('转化后的2维列表前5项：')\n",
    "    print(data2Dlist[:4])\n",
    "#返回该2维列表\n",
    "    return data2Dlist\n",
    "\n",
    "BMData=loadExcel('Section4 bankMarketing_info.xlsx')\n",
    "BMLabel= ['工龄', '工作性质', '教育程度', '婚姻状况']\n",
    "print(BMLabel)\n",
    "\n",
    "#计算样本数据集分类标签为Y/N的概率\n",
    "#参数：dataset-List列表，训练集，包含了样本数据和分类结果\n",
    "#      cls_val-字符，取值为Y/N\n",
    "#返回值：cnt/len(data)-浮点数，训练集中分类标签为cls_vla的频率\n",
    "def Prob(dataset,cls_val):\n",
    "    cnt = 0.0\n",
    "    for e in dataset:\n",
    "#每个样本的第4列为分类标签结果\n",
    "        if e[4] == cls_val:\n",
    "            cnt += 1\n",
    "    return cnt/len(dataset)\n",
    "\n",
    "#计算条件概率\n",
    "#参数：dataset-List列表，训练集，包含了样本数据和分类结果\n",
    "#      cls_val-字符，取值为Y/N\n",
    "#      attr_index-整数，属性序号\n",
    "#      attr_val-整数，属性取值\n",
    "#返回值：cnt2/cnt1-浮点数，条件概率：属性取值|分类结果\n",
    "def ConditionP(dataset,cls_val,attr_index,attr_val):\n",
    "    cnt1 = 0.0\n",
    "    cnt2 = 0.0\n",
    "    for e in dataset:\n",
    "#每个样本的第4列为分类标签结果\n",
    "        if e[4] == cls_val:\n",
    "            cnt1 += 1\n",
    "            if e[attr_index] == attr_val:\n",
    "                cnt2 += 1\n",
    "    return cnt2/cnt1\n",
    "\n",
    "#利用后验概率计算先验概率\n",
    "#参数：dataset-List列表，训练集，包含了样本数据和分类结果\n",
    "#      test-List列表，测试样本属性列表\n",
    "#      cls_y,cls_n-字符，分类标签Y，N\n",
    "#返回值：{cls_y:PY,cls_n:PN}-浮点数，先验概率公式1-3的分子部分\n",
    "def NB(dataset,test,cls_y,cls_n):\n",
    "    PY = Prob(dataset,cls_y)\n",
    "    PN = Prob(dataset,cls_n)\n",
    "#对于测试样本test属性取值，计算其公式1-3的分子部分\n",
    "#较大的值对应较大的分类可能\n",
    "    for i, val in enumerate(test):\n",
    "        PY *= ConditionP(dataset,cls_y,i,val)\n",
    "        PN *= ConditionP(dataset,cls_n,i,val)\n",
    "    return {cls_y:round(PY,6),cls_n:round(PN,6)}\n",
    "\n",
    "print('理财产品促销客户1预测结果:')\n",
    "BMVec = [2, 2, 3, 2]\n",
    "prob=NB(BMData,BMVec,'Y','N')\n",
    "print(prob)\n",
    "\n",
    "print('理财产品促销客户2预测结果:')\n",
    "BMVec = [1,3,1,1]\n",
    "prob=NB(BMData,BMVec,'Y','N')\n",
    "print(prob)"
   ]
  },
  {
   "cell_type": "code",
   "execution_count": 3,
   "id": "20b7459e",
   "metadata": {},
   "outputs": [
    {
     "name": "stdout",
     "output_type": "stream",
     "text": [
      "Iris数据集前5行：\n",
      "[[5.1 3.5 1.4 0.2]\n",
      " [4.9 3.  1.4 0.2]\n",
      " [4.7 3.2 1.3 0.2]\n",
      " [4.6 3.1 1.5 0.2]\n",
      " [5.  3.6 1.4 0.2]]\n",
      "Iris数据集前5行分类：\n",
      "[0 0 0 0 0]\n"
     ]
    }
   ],
   "source": [
    "import pandas as pd\n",
    "import numpy as np\n",
    "from sklearn import datasets\n",
    "\n",
    "iris = datasets.load_iris()\n",
    "print('Iris数据集前5行：')\n",
    "print(iris.data[0:5,:])\n",
    "print('Iris数据集前5行分类：')\n",
    "print(iris.target[0:5])"
   ]
  },
  {
   "cell_type": "code",
   "execution_count": 4,
   "id": "3c40f7d9",
   "metadata": {},
   "outputs": [
    {
     "name": "stdout",
     "output_type": "stream",
     "text": [
      "Iris数据集归一化处理后前5行：\n",
      "[[0.22222222 0.625      0.06779661 0.04166667]\n",
      " [0.16666667 0.41666667 0.06779661 0.04166667]\n",
      " [0.11111111 0.5        0.05084746 0.04166667]\n",
      " [0.08333333 0.45833333 0.08474576 0.04166667]\n",
      " [0.19444444 0.66666667 0.06779661 0.04166667]]\n"
     ]
    }
   ],
   "source": [
    "#预处理阶段\n",
    "from sklearn.preprocessing import MinMaxScaler\n",
    "#区间缩放，返回值为缩放到[0, 1]区间的数据\n",
    "iris_data=MinMaxScaler().fit_transform(iris.data)\n",
    "print('Iris数据集归一化处理后前5行：')\n",
    "print(iris_data[0:5,:])\n",
    "iris_df=pd.DataFrame(iris_data,columns=['Sepal Length',\n",
    "                                        'Sepal Width','Petal Length','Petal Width'])\n",
    "iris_df['target']=iris.target"
   ]
  },
  {
   "cell_type": "code",
   "execution_count": 5,
   "id": "1fcf7787",
   "metadata": {},
   "outputs": [
    {
     "name": "stdout",
     "output_type": "stream",
     "text": [
      "Iris训练集前5行：\n",
      "     Sepal Length  Sepal Width  Petal Length  Petal Width\n",
      "119      0.472222     0.083333      0.677966     0.583333\n",
      "51       0.583333     0.500000      0.593220     0.583333\n",
      "125      0.805556     0.500000      0.847458     0.708333\n",
      "46       0.222222     0.750000      0.101695     0.041667\n",
      "15       0.388889     1.000000      0.084746     0.125000\n",
      "Iris训练集分类结果：\n",
      "[2 1 2 0 0]\n",
      "Iris测试集前5行：\n",
      "     Sepal Length  Sepal Width  Petal Length  Petal Width\n",
      "24       0.138889     0.583333      0.152542     0.041667\n",
      "42       0.027778     0.500000      0.050847     0.041667\n",
      "6        0.083333     0.583333      0.067797     0.083333\n",
      "53       0.333333     0.125000      0.508475     0.500000\n",
      "113      0.388889     0.208333      0.677966     0.791667\n",
      "Iris测试集原始分类结果\n",
      "[0 0 0 1 2]\n"
     ]
    }
   ],
   "source": [
    "#训练集与测试集分离阶段\n",
    "from sklearn.model_selection import train_test_split\n",
    "X_train, X_test, y_train, y_test = train_test_split(iris_df.iloc[:,0:4], \n",
    "            iris_df['target'], random_state= 14)\n",
    "print('Iris训练集前5行：')\n",
    "print(X_train.head(5))\n",
    "print('Iris训练集分类结果：')\n",
    "print(y_train.head(5).values)\n",
    "print('Iris测试集前5行：')\n",
    "print(X_test.head(5))\n",
    "print('Iris测试集原始分类结果')\n",
    "print(y_test.head(5).values)"
   ]
  },
  {
   "cell_type": "code",
   "execution_count": 6,
   "id": "95aa7c1f",
   "metadata": {},
   "outputs": [
    {
     "name": "stdout",
     "output_type": "stream",
     "text": [
      "Iris测试集真实结果\n",
      "[0 0 0 1 2 1 0 1 0 1 2 0 2 2 0 1 0 2 2 1 0 0 0 1 0 2 0 1 1 0 0 1 1 0 1 0 2\n",
      " 1]\n",
      "Iris测试集KNN算法预测结果\n",
      "[0 0 0 1 2 1 0 1 0 1 1 0 2 2 0 1 0 2 2 1 0 0 0 1 0 2 0 1 1 0 0 1 1 0 1 0 2\n",
      " 1]\n"
     ]
    },
    {
     "name": "stderr",
     "output_type": "stream",
     "text": [
      "C:\\Users\\Guixiang Zhu\\anaconda3\\lib\\site-packages\\sklearn\\neighbors\\_classification.py:211: FutureWarning: Unlike other reduction functions (e.g. `skew`, `kurtosis`), the default behavior of `mode` typically preserves the axis it acts along. In SciPy 1.11.0, this behavior will change: the default value of `keepdims` will become False, the `axis` over which the statistic is taken will be eliminated, and the value None will no longer be accepted. Set `keepdims` to True or False to avoid this warning.\n",
      "  mode, _ = stats.mode(_y[neigh_ind, k], axis=1)\n"
     ]
    }
   ],
   "source": [
    "#算法实施阶段\n",
    "from sklearn.neighbors import KNeighborsClassifier\n",
    "knn = KNeighborsClassifier()    #估计器，使用KNN算法\n",
    "knn.fit(X_train, y_train)\n",
    "y_predicted = knn.predict(X_test)\n",
    "print('Iris测试集真实结果')\n",
    "print(y_test.values)\n",
    "print('Iris测试集KNN算法预测结果')\n",
    "print(y_predicted)"
   ]
  },
  {
   "cell_type": "code",
   "execution_count": 7,
   "id": "61626713",
   "metadata": {},
   "outputs": [
    {
     "name": "stdout",
     "output_type": "stream",
     "text": [
      "当前分类评估器是: knn\n",
      "当前Accuracy是：97.4%\n"
     ]
    }
   ],
   "source": [
    "#性能评估阶段\n",
    "accuracy = np.mean(y_predicted == y_test) *100 \n",
    "print('当前分类评估器是: knn')\n",
    "print('当前Accuracy是：%.1f' %accuracy + '%')"
   ]
  },
  {
   "cell_type": "code",
   "execution_count": 8,
   "id": "c898841e",
   "metadata": {},
   "outputs": [
    {
     "name": "stdout",
     "output_type": "stream",
     "text": [
      "当前分类评估器是: svm\n",
      "当前Accuracy是：97.4%\n",
      "当前分类评估器是: decision_tree\n",
      "当前Accuracy是：97.4%\n",
      "当前分类评估器是: naive_gaussian\n",
      "当前Accuracy是：97.4%\n",
      "当前分类评估器是: naive_mul\n",
      "当前Accuracy是：65.8%\n",
      "当前分类评估器是: K_neighbor\n",
      "当前Accuracy是：97.4%\n",
      "当前分类评估器是: bagging_knn\n",
      "当前Accuracy是：97.4%\n",
      "当前分类评估器是: bagging_tree\n",
      "当前Accuracy是：100.0%\n",
      "当前分类评估器是: random_forest\n",
      "当前Accuracy是：97.4%\n",
      "当前分类评估器是: adaboost\n",
      "当前Accuracy是：97.4%\n",
      "当前分类评估器是: gradient_boost\n"
     ]
    },
    {
     "name": "stderr",
     "output_type": "stream",
     "text": [
      "C:\\Users\\Guixiang Zhu\\anaconda3\\lib\\site-packages\\sklearn\\neighbors\\_classification.py:211: FutureWarning: Unlike other reduction functions (e.g. `skew`, `kurtosis`), the default behavior of `mode` typically preserves the axis it acts along. In SciPy 1.11.0, this behavior will change: the default value of `keepdims` will become False, the `axis` over which the statistic is taken will be eliminated, and the value None will no longer be accepted. Set `keepdims` to True or False to avoid this warning.\n",
      "  mode, _ = stats.mode(_y[neigh_ind, k], axis=1)\n"
     ]
    },
    {
     "name": "stdout",
     "output_type": "stream",
     "text": [
      "当前Accuracy是：97.4%\n"
     ]
    }
   ],
   "source": [
    "#与多种算法比较\n",
    "from sklearn import tree, svm, naive_bayes,neighbors  \n",
    "from sklearn.ensemble import BaggingClassifier, AdaBoostClassifier, \\\n",
    "             RandomForestClassifier, GradientBoostingClassifier #随机森林等算法\n",
    "\n",
    "clfs = {'svm': svm.SVC(gamma='auto'),\\\n",
    "        'decision_tree':tree.DecisionTreeClassifier(),\n",
    "        'naive_gaussian': naive_bayes.GaussianNB(), \\\n",
    "        'naive_mul':naive_bayes.MultinomialNB(),\\\n",
    "        'K_neighbor' : neighbors.KNeighborsClassifier(),\\\n",
    "        'bagging_knn' : BaggingClassifier(neighbors.KNeighborsClassifier(), max_samples=0.5,max_features=0.5), \\\n",
    "        'bagging_tree': BaggingClassifier(tree.DecisionTreeClassifier(), max_samples=0.5,max_features=0.5),\n",
    "        'random_forest' : RandomForestClassifier(n_estimators=50),\\\n",
    "        'adaboost':AdaBoostClassifier(n_estimators=50),\\\n",
    "        'gradient_boost' : GradientBoostingClassifier(n_estimators=50, learning_rate=1.0,max_depth=1, random_state=0)\n",
    "        }\n",
    "\n",
    "#用样本数据训练模型，用测试数据测试训练后的算法正确率\n",
    "def try_different_method(clf):\n",
    "    clf.fit(X_train,y_train)\n",
    "    score = clf.score(X_test,y_test)*100 #默认情况下分类估计器的score函数返回的是Accrracy\n",
    "    print('当前Accuracy是：%.1f'%score + '%')\n",
    "\n",
    "#依次调用clfs中的不同算法\n",
    "for clf_key in clfs.keys():\n",
    "    print('当前分类评估器是:',clf_key)\n",
    "    clf = clfs[clf_key]\n",
    "    try_different_method(clf)"
   ]
  },
  {
   "cell_type": "code",
   "execution_count": 32,
   "id": "140bd8ea",
   "metadata": {},
   "outputs": [
    {
     "name": "stdout",
     "output_type": "stream",
     "text": [
      "TN, FP, FN, TP: 1 1 2 2\n",
      "Precision: 0.6666666666666666\n",
      "Recall： 0.5\n",
      "F_measure: 0.5714285714285715\n"
     ]
    }
   ],
   "source": [
    "from sklearn.metrics import confusion_matrix\n",
    "y_true = [1,1,0,1,0,1]#1代表预测为恶意用户，0代表预测为正常用户 \n",
    "y_pred = [1,1,1,0,0,0]#1代表预测为恶意用户，0代表预测为正常用户 \n",
    "ConfusionMatrix= confusion_matrix(y_true, y_pred, labels=[0, 1])\n",
    "#print(ConfusionMatrix)\n",
    "#print(ConfusionMatrix.ravel())\n",
    "TN, FP, FN, TP =ConfusionMatrix.ravel()\n",
    "print(\"TN, FP, FN, TP:\",TN, FP, FN, TP)\n",
    "Precision=TP/(TP+FP)\n",
    "Recall=TP/(TP+FN)\n",
    "F_measure=2*Precision*Recall/(Precision+Recall)\n",
    "print('Precision:',Precision)\n",
    "print('Recall：',Recall)\n",
    "print('F_measure:',F_measure)\n"
   ]
  },
  {
   "cell_type": "code",
   "execution_count": 31,
   "id": "a1d012e2",
   "metadata": {},
   "outputs": [
    {
     "name": "stdout",
     "output_type": "stream",
     "text": [
      "Precision: 0.6666666666666666\n",
      "Recall: 0.5\n",
      "F_measure: 0.5714285714285715\n"
     ]
    }
   ],
   "source": [
    "def calculate_TP(y_true, y_pred):\n",
    "    TP = 0\n",
    "    for i, j in zip(y_true, y_pred):\n",
    "        if i == j == 1:\n",
    "            TP += 1\n",
    "    return TP\n",
    "\n",
    "def calculate_TN(y_true, y_pred):\n",
    "    TN = 0\n",
    "    for i, j in zip(y_true, y_pred):\n",
    "        if i == j == 0:\n",
    "            TN += 1\n",
    "    return TN\n",
    "\n",
    "def calculate_FP(y_true, y_pred):\n",
    "    FP = 0\n",
    "    for i, j in zip(y_true, y_pred):\n",
    "        if i == 0 and j == 1:\n",
    "            FP += 1\n",
    "    return FP\n",
    "\n",
    "def calculate_FN(y_true, y_pred):\n",
    "    FN = 0\n",
    "    for i, j in zip(y_true, y_pred):\n",
    "        if i == 1 and j == 0:\n",
    "            FN += 1\n",
    "    return FN\n",
    "\n",
    "def calculate_Precision (y_true, y_pred):\n",
    "    TP=calculate_TP(y_true, y_pred)\n",
    "    FP=calculate_FP(y_true, y_pred)\n",
    "    Precision=TP/(TP+FP)\n",
    "    return Precision\n",
    "\n",
    "def calculate_Recall (y_true, y_pred):\n",
    "    TP=calculate_TP(y_true, y_pred)\n",
    "    FN=calculate_FN(y_true, y_pred)\n",
    "    Recall=TP/(TP+FN)\n",
    "    return Recall\n",
    "\n",
    "if __name__ == '__main__':\n",
    "    y_true = [1,1,0,1,0,1] #1代表预测为恶意用户，0代表预测为正常用户 \n",
    "    y_pred = [1,1,1,0,0,0]#1代表预测为恶意用户，0代表预测为正常用户 \n",
    "    Precision=calculate_Precision(y_true,y_pred)\n",
    "    print('Precision:',Precision)\n",
    "    Recall=calculate_Recall(y_true,y_pred)\n",
    "    print('Recall:',Recall)\n",
    "    F_measure=2*Precision*Recall/(Precision+Recall)\n",
    "    print('F_measure:',F_measure)"
   ]
  },
  {
   "cell_type": "code",
   "execution_count": 3,
   "id": "606b96fd",
   "metadata": {},
   "outputs": [
    {
     "name": "stdout",
     "output_type": "stream",
     "text": [
      "(20640, 10)\n",
      "加州房价数据前5行：\n",
      "   longitude  latitude  housing_median_age  total_rooms  total_bedrooms  \\\n",
      "0    -122.23     37.88                41.0        880.0           129.0   \n",
      "1    -122.22     37.86                21.0       7099.0          1106.0   \n",
      "2    -122.24     37.85                52.0       1467.0           190.0   \n",
      "3    -122.25     37.85                52.0       1274.0           235.0   \n",
      "4    -122.25     37.85                52.0       1627.0           280.0   \n",
      "\n",
      "   population  households  median_income  median_house_value ocean_proximity  \n",
      "0       322.0       126.0         8.3252            452600.0        NEAR BAY  \n",
      "1      2401.0      1138.0         8.3014            358500.0        NEAR BAY  \n",
      "2       496.0       177.0         7.2574            352100.0        NEAR BAY  \n",
      "3       558.0       219.0         5.6431            341300.0        NEAR BAY  \n",
      "4       565.0       259.0         3.8462            342200.0        NEAR BAY  \n",
      "存在缺失值的数据前5行：\n",
      "     longitude  latitude  housing_median_age  total_rooms  total_bedrooms  \\\n",
      "290    -122.16     37.77                47.0       1256.0             NaN   \n",
      "341    -122.17     37.75                38.0        992.0             NaN   \n",
      "538    -122.28     37.78                29.0       5154.0             NaN   \n",
      "563    -122.24     37.75                45.0        891.0             NaN   \n",
      "696    -122.10     37.69                41.0        746.0             NaN   \n",
      "\n",
      "     population  households  median_income  median_house_value ocean_proximity  \n",
      "290       570.0       218.0         4.3750            161900.0        NEAR BAY  \n",
      "341       732.0       259.0         1.6196             85100.0        NEAR BAY  \n",
      "538      3741.0      1273.0         2.5762            173400.0        NEAR BAY  \n",
      "563       384.0       146.0         4.9489            247100.0        NEAR BAY  \n",
      "696       387.0       161.0         3.9063            178400.0        NEAR BAY  \n",
      "整理后数据前5行，请注意比原始数据少了一列：\n",
      "   longitude  latitude  housing_median_age  total_rooms  population  \\\n",
      "0    -122.23     37.88                41.0        880.0       322.0   \n",
      "1    -122.22     37.86                21.0       7099.0      2401.0   \n",
      "2    -122.24     37.85                52.0       1467.0       496.0   \n",
      "3    -122.25     37.85                52.0       1274.0       558.0   \n",
      "4    -122.25     37.85                52.0       1627.0       565.0   \n",
      "\n",
      "   households  median_income  median_house_value  ocean_proximity  \n",
      "0       126.0         8.3252            452600.0              3.0  \n",
      "1      1138.0         8.3014            358500.0              3.0  \n",
      "2       177.0         7.2574            352100.0              3.0  \n",
      "3       219.0         5.6431            341300.0              3.0  \n",
      "4       259.0         3.8462            342200.0              3.0  \n",
      "标准化后训练集前5行：\n",
      "   longitude  latitude  housing_median_age  total_rooms  population  \\\n",
      "0   1.272587 -1.372811            0.348490     0.222569    0.768276   \n",
      "1   0.709162 -0.876696            1.618118     0.340293   -0.098901   \n",
      "2  -0.447603 -0.460146           -1.952710    -0.342597   -0.449818   \n",
      "3   1.232698 -1.382172            0.586545    -0.561490   -0.007434   \n",
      "4  -0.108551  0.532084            1.142008    -0.119565   -0.485877   \n",
      "\n",
      "   households  median_income  ocean_proximity  \n",
      "0    0.322906      -0.326196         2.005932  \n",
      "1    0.672027      -0.035843         2.005932  \n",
      "2   -0.430461       0.144701         2.005932  \n",
      "3   -0.380587      -1.017864         2.005932  \n",
      "4   -0.314962      -0.171488        -0.112427  \n"
     ]
    },
    {
     "name": "stderr",
     "output_type": "stream",
     "text": [
      "<ipython-input-3-373025533e5c>:30: DeprecationWarning: `np.float` is a deprecated alias for the builtin `float`. To silence this warning, use `float` by itself. Doing this will not modify any behavior and is safe. If you specifically wanted the numpy scalar type, use `np.float64` here.\n",
      "Deprecated in NumPy 1.20; for more details and guidance: https://numpy.org/devdocs/release/1.20.0-notes.html#deprecations\n",
      "  caDF=pd.DataFrame(caDF,dtype=np.float)\n"
     ]
    }
   ],
   "source": [
    "import pandas as pd\n",
    "import numpy as np\n",
    "\n",
    "#加利福利亚房价数据\n",
    "caDF = pd.read_csv('Section4 california_housing.csv')\n",
    "print(caDF.shape)\n",
    "print('加州房价数据前5行：')\n",
    "print(caDF.head())\n",
    "\n",
    "#观察数据，发现存在缺失值和非数值型字段\n",
    "sample_incompletedata = caDF[caDF.isnull().any(axis=1)]\n",
    "print('存在缺失值的数据前5行：')\n",
    "print(sample_incompletedata.head())\n",
    "\n",
    "#因为total_rooms和total_bedrooms线性相关性较强，\n",
    "#为了减少运算量，将total_bedrooms列舍去\n",
    "caDF.drop(['total_bedrooms'],axis=1,inplace=True)\n",
    "\n",
    "#ocean_proximity列是文本标签，描述了房屋离海滩距离\n",
    "#使用LabelEncoder将文本标签转换为数值标签\n",
    "from sklearn.preprocessing import LabelEncoder\n",
    "caDF[['ocean_proximity']]=caDF[['ocean_proximity']].apply\\\n",
    "                                          (LabelEncoder().fit_transform)\n",
    "\n",
    "#使用SkLearn的Imputer处理缺失数据\n",
    "from sklearn.impute import SimpleImputer\n",
    "imputer = SimpleImputer(strategy=\"median\") #用该列中位数填充缺失值\n",
    "imputer.fit(caDF)\n",
    "#将所有数据转换为float类型\n",
    "caDF=pd.DataFrame(caDF,dtype=np.float)\n",
    "print('整理后数据前5行，请注意比原始数据少了一列：')\n",
    "print(caDF.head())\n",
    "\n",
    "#分离训练集与测试集，median_house_value列的数据是研究的目标\n",
    "from sklearn.model_selection import train_test_split\n",
    "caDFdata=caDF.drop(['median_house_value'],axis=1)\n",
    "caDFprice=caDF['median_house_value']\n",
    "Train_X,Test_X,Train_y,Test_y=train_test_split(caDFdata,caDFprice,\n",
    "                                              test_size=0.2,random_state=42)\n",
    "\n",
    "#数据标准化,将每一列数据转换为均值为0，方差为1的数据，便于后续处理\n",
    "from sklearn.preprocessing import StandardScaler\n",
    "ss= StandardScaler().fit(Train_X)\n",
    "Train_X = pd.DataFrame(ss.transform(Train_X), columns=Train_X.columns)\n",
    "Test_X  = pd.DataFrame(ss.transform(Test_X),  columns=Test_X.columns)\n",
    "\n",
    "print('标准化后训练集前5行：')\n",
    "print(Train_X.head())"
   ]
  },
  {
   "cell_type": "code",
   "execution_count": 11,
   "id": "4152f85d",
   "metadata": {},
   "outputs": [
    {
     "name": "stdout",
     "output_type": "stream",
     "text": [
      "sklearn随机森林模型得分: 80.2%\n"
     ]
    }
   ],
   "source": [
    "#随机森林回归，是集成了多棵决策树而成的森林\n",
    "from sklearn import ensemble\n",
    "model_rf= ensemble.RandomForestRegressor(n_estimators=20)  # 使用20个决策树\n",
    "model_rf.fit(Train_X,Train_y)\n",
    "rf_score=model_rf.score(Test_X,Test_y)*100\n",
    "print('sklearn随机森林模型得分: %.1f' %rf_score + '%')\n",
    "rf_pred=model_rf.predict(Test_X)"
   ]
  },
  {
   "cell_type": "code",
   "execution_count": 12,
   "id": "2fc90518",
   "metadata": {},
   "outputs": [
    {
     "name": "stdout",
     "output_type": "stream",
     "text": [
      "sklearn人工神经网络回归模型得分: 69.0%\n"
     ]
    },
    {
     "name": "stderr",
     "output_type": "stream",
     "text": [
      "C:\\Users\\Guixiang Zhu\\anaconda3\\lib\\site-packages\\sklearn\\neural_network\\_multilayer_perceptron.py:500: ConvergenceWarning: lbfgs failed to converge (status=1):\n",
      "STOP: TOTAL NO. of ITERATIONS REACHED LIMIT.\n",
      "\n",
      "Increase the number of iterations (max_iter) or scale the data as shown in:\n",
      "    https://scikit-learn.org/stable/modules/preprocessing.html\n",
      "  self.n_iter_ = _check_optimize_result(\"lbfgs\", opt_res, self.max_iter)\n"
     ]
    }
   ],
   "source": [
    "#人工神经网络回归，Sklearn中，又称多层感知机MLP\n",
    "from sklearn.neural_network import MLPRegressor  \n",
    "model_mlp = MLPRegressor(solver='lbfgs', hidden_layer_sizes=(5, 5),\n",
    "                         random_state=1)\n",
    "model_mlp.fit(Train_X,Train_y)\n",
    "mlp_score=model_mlp.score(Test_X,Test_y)*100\n",
    "print('sklearn人工神经网络回归模型得分: %.1f' %mlp_score + '%')"
   ]
  },
  {
   "cell_type": "code",
   "execution_count": 13,
   "id": "496f329c",
   "metadata": {},
   "outputs": [
    {
     "name": "stdout",
     "output_type": "stream",
     "text": [
      "当前最佳参数组合： {'hidden_layer_sizes': (10, 10), 'solver': 'lbfgs'}\n",
      "sklearn人工神经网络上述参数得分: 70.3%\n"
     ]
    },
    {
     "name": "stderr",
     "output_type": "stream",
     "text": [
      "C:\\Users\\Guixiang Zhu\\anaconda3\\lib\\site-packages\\sklearn\\neural_network\\_multilayer_perceptron.py:500: ConvergenceWarning: lbfgs failed to converge (status=1):\n",
      "STOP: TOTAL NO. of ITERATIONS REACHED LIMIT.\n",
      "\n",
      "Increase the number of iterations (max_iter) or scale the data as shown in:\n",
      "    https://scikit-learn.org/stable/modules/preprocessing.html\n",
      "  self.n_iter_ = _check_optimize_result(\"lbfgs\", opt_res, self.max_iter)\n"
     ]
    }
   ],
   "source": [
    "#采用GridSearchCV来进行参数调整实验，找出最佳参数组合\n",
    "from sklearn.model_selection import GridSearchCV\n",
    "param_grid = {'solver':['lbfgs','sgd','adam'],\n",
    "              'hidden_layer_sizes': [(5,5),(10,10)]\n",
    "             }\n",
    "#对param_grid中的各参数进行组合，传递进MPL回归器。\n",
    "#cv=3,3折交叉验证，将数据集随机分为3份，每次将一份作为测试集，其他为训练集\n",
    "#n_jobs=-1，使用CPU核心数，-1表示所有可用的核\n",
    "best_mlp =GridSearchCV(MLPRegressor(max_iter=200),param_grid,cv=3,n_jobs=-1)\n",
    "best_mlp.fit(Train_X,Train_y)\n",
    "print('当前最佳参数组合：',best_mlp.best_params_)\n",
    "best_score=best_mlp.score(Test_X,Test_y)*100\n",
    "print('sklearn人工神经网络上述参数得分: %.1f' %best_score + '%')\n",
    "#用以上模型对Test_X进行预测\n",
    "mlp_pred = best_mlp.predict(Test_X)"
   ]
  },
  {
   "cell_type": "code",
   "execution_count": 14,
   "id": "8b38d5c8",
   "metadata": {},
   "outputs": [
    {
     "data": {
      "image/png": "[encoded data removed]",
      "text/plain": [
       "<Figure size 720x432 with 1 Axes>"
      ]
     },
     "metadata": {
      "needs_background": "light"
     },
     "output_type": "display_data"
    }
   ],
   "source": [
    "#绘图比较模型预测房价与真实房价的差异\n",
    "import matplotlib.pyplot as plt\n",
    "from matplotlib import rcParams\n",
    "plt.rcParams['font.sans-serif']=['SimHei']\n",
    "plt.rcParams['axes.unicode_minus'] = False \n",
    "fig = plt.figure(figsize=(10, 6))  # dpi参数指定绘图对象的分辨率，即每英寸多少个像素，缺省值为80\n",
    "#axes = fig.add_subplot(1, 1, 1)\n",
    "#为便于观察，只取部分结果作图\n",
    "T1=Test_y[:50]\n",
    "P1=mlp_pred[:50]\n",
    "R1=rf_pred[:50]\n",
    "plt.plot(range(len(T1)),T1, 'g',label='实际',linewidth=3)\n",
    "plt.plot(range(len(P1)),P1, 'y--',label='神经网络回归',linewidth=2)\n",
    "plt.plot(range(len(P1)),R1, 'r:',label='随机森林回归',linewidth=2)\n",
    "fig.tight_layout()\n",
    "plt.legend()\n",
    "plt.title('sklearn 回归模型')\n",
    "plt.savefig('skl_01.png',dpi=300,bbox_inches='tight')\n",
    "plt.show()"
   ]
  },
  {
   "cell_type": "code",
   "execution_count": null,
   "id": "8e027b6b",
   "metadata": {},
   "outputs": [],
   "source": []
  }
 ],
 "metadata": {
  "kernelspec": {
   "display_name": "Python 3",
   "language": "python",
   "name": "python3"
  },
  "language_info": {
   "codemirror_mode": {
    "name": "ipython",
    "version": 3
   },
   "file_extension": ".py",
   "mimetype": "text/x-python",
   "name": "python",
   "nbconvert_exporter": "python",
   "pygments_lexer": "ipython3",
   "version": "3.8.8"
  }
 },
 "nbformat": 4,
 "nbformat_minor": 5
}
