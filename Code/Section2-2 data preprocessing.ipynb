{
 "cells": [
  {
   "cell_type": "code",
   "execution_count": 14,
   "metadata": {},
   "outputs": [
    {
     "name": "stdout",
     "output_type": "stream",
     "text": [
      "[[0.        ]\n",
      " [1.        ]\n",
      " [0.20754717]]\n"
     ]
    }
   ],
   "source": [
    "'''\n",
    "假设属性income的最小值和最大值分别是5000元和58000元。\n",
    "利用Min-Max规范化的方法将属性的值映射到0至1的范围内，那么属性income的16000元将被转化为多少？\n",
    "'''\n",
    "from sklearn import preprocessing\n",
    "import numpy as np\n",
    "x = np.array([[5000.],[58000.],[16000.]])\n",
    "min_max_scaler = preprocessing.MinMaxScaler()\n",
    "minmax_x = min_max_scaler.fit_transform(x)\n",
    "print(minmax_x)"
   ]
  },
  {
   "cell_type": "code",
   "execution_count": 15,
   "metadata": {},
   "outputs": [
    {
     "name": "stdout",
     "output_type": "stream",
     "text": [
      "X: [[ 1.  -1.   2. ]\n",
      " [ 2.   0.   0. ]\n",
      " [ 0.   1.  -1.1]]\n",
      "After Z-score Normalization: [[ 0.         -1.22474487  1.32478705]\n",
      " [ 1.22474487  0.         -0.23378595]\n",
      " [-1.22474487  1.22474487 -1.0910011 ]]\n"
     ]
    }
   ],
   "source": [
    "'''\n",
    "零-均值规范化 Python实现：\n",
    "'''\n",
    "from sklearn import preprocessing \n",
    "import numpy as np\n",
    "X=np.array([[ 1., -1., 2.], [ 2., 0., 0.],[ 0., 1., -1.1]])\n",
    "X_scaled = preprocessing.scale(X) \n",
    "print('X:',X)\n",
    "print('After Z-score Normalization:',X_scaled)"
   ]
  },
  {
   "cell_type": "code",
   "execution_count": 11,
   "metadata": {},
   "outputs": [
    {
     "name": "stdout",
     "output_type": "stream",
     "text": [
      "{'weight': '140', 'age': '21', 'height': '180', 'name': 'guodong', 'sex': 'M'}\n"
     ]
    }
   ],
   "source": [
    "dict = {\n",
    "'name' : 'guodong',\n",
    "'age' : '21',\n",
    "'sex' : 'M',\n",
    "'weight' : '140',\n",
    "'height' : '180'}\n",
    "print (dict)"
   ]
  },
  {
   "cell_type": "code",
   "execution_count": 14,
   "metadata": {},
   "outputs": [
    {
     "name": "stdout",
     "output_type": "stream",
     "text": [
      "guodong\n"
     ]
    }
   ],
   "source": [
    "print (dict['name'])"
   ]
  },
  {
   "cell_type": "code",
   "execution_count": 15,
   "metadata": {},
   "outputs": [
    {
     "name": "stdout",
     "output_type": "stream",
     "text": [
      "{'weight': '140', 'height': '180', 'age': '21', 'id': '05', 'sex': 'M', 'name': 'guodong'}\n"
     ]
    }
   ],
   "source": [
    "dict['id'] = '05'\n",
    "print (dict)"
   ]
  },
  {
   "cell_type": "code",
   "execution_count": 17,
   "metadata": {},
   "outputs": [
    {
     "name": "stdout",
     "output_type": "stream",
     "text": [
      "{'weight': '140', 'height': '180', 'age': '21', 'sex': 'M', 'name': 'guodong'}\n"
     ]
    }
   ],
   "source": [
    "dict.pop('id')\n",
    "print (dict)"
   ]
  },
  {
   "cell_type": "code",
   "execution_count": 18,
   "metadata": {},
   "outputs": [
    {
     "name": "stdout",
     "output_type": "stream",
     "text": [
      "5\n"
     ]
    }
   ],
   "source": [
    "print(len(dict))"
   ]
  },
  {
   "cell_type": "code",
   "execution_count": 25,
   "metadata": {},
   "outputs": [
    {
     "name": "stdout",
     "output_type": "stream",
     "text": [
      "key:weight value:140\n",
      "key:height value:180\n",
      "key:age value:21\n",
      "key:sex value:M\n",
      "key:name value:guodong\n"
     ]
    }
   ],
   "source": [
    "for key,value in dict.items():\n",
    "    print (\"key:\" + key,\"value:\" + value)"
   ]
  },
  {
   "cell_type": "code",
   "execution_count": 28,
   "metadata": {},
   "outputs": [
    {
     "name": "stdout",
     "output_type": "stream",
     "text": [
      "red\n",
      "green\n",
      "blue\n",
      "black\n",
      "white\n",
      "yellow\n",
      "['red', 'green', 'blue']\n"
     ]
    }
   ],
   "source": [
    "list = ['red', 'green', 'blue', 'yellow', 'white', 'black']\n",
    "print( list[0] )\n",
    "print( list[1] )\n",
    "print( list[2] )\n",
    "print( list[-1] )\n",
    "print( list[-2] )\n",
    "print( list[-3] )\n",
    "print( list[0:3] )"
   ]
  },
  {
   "cell_type": "code",
   "execution_count": 30,
   "metadata": {},
   "outputs": [
    {
     "name": "stdout",
     "output_type": "stream",
     "text": [
      "['green', 'blue', 'yellow', 'white', 'black']\n"
     ]
    }
   ],
   "source": [
    "list = ['red', 'green', 'blue', 'yellow', 'white', 'black']\n",
    "del list[0]\n",
    "print(list)"
   ]
  },
  {
   "cell_type": "code",
   "execution_count": 30,
   "metadata": {},
   "outputs": [
    {
     "name": "stdout",
     "output_type": "stream",
     "text": [
      "['green', 'blue', 'yellow', 'white', 'black']\n"
     ]
    }
   ],
   "source": [
    "list = ['red', 'green', 'blue', 'yellow', 'white', 'black']\n",
    "del list[0]\n",
    "print(list)"
   ]
  },
  {
   "cell_type": "code",
   "execution_count": 33,
   "metadata": {},
   "outputs": [
    {
     "name": "stdout",
     "output_type": "stream",
     "text": [
      "第三个元素为 :  Amazon\n",
      "更新后的第三个元素为 :  Tik Tok\n",
      "添加元素后的列表 :  ['Google', 'Runoob', 'Tik Tok', 'Baidu']\n"
     ]
    }
   ],
   "source": [
    "list = ['Google', 'Runoob', 'Amazon']\n",
    "print (\"第三个元素为 : \", list[2])\n",
    "list[2] = 'Tik Tok'\n",
    "print (\"更新后的第三个元素为 : \", list[2])\n",
    "list.append('Baidu')\n",
    "print (\"添加元素后的列表 : \", list)"
   ]
  },
  {
   "cell_type": "code",
   "execution_count": 5,
   "metadata": {},
   "outputs": [
    {
     "name": "stdout",
     "output_type": "stream",
     "text": [
      "   data1  data2 key\n",
      "0      1      4   a\n",
      "1      2      5   b\n",
      "2      3      6   c\n"
     ]
    }
   ],
   "source": [
    "df=pd.DataFrame({'key':['a','b','c'],'data1':[1,2,3],'data2':[4,5,6]})  \n",
    "print(df)"
   ]
  },
  {
   "cell_type": "code",
   "execution_count": 6,
   "metadata": {},
   "outputs": [
    {
     "name": "stdout",
     "output_type": "stream",
     "text": [
      "0\n",
      "data1    1\n",
      "data2    4\n",
      "key      a\n",
      "Name: 0, dtype: object\n",
      "1\n",
      "data1    2\n",
      "data2    5\n",
      "key      b\n",
      "Name: 1, dtype: object\n",
      "2\n",
      "data1    3\n",
      "data2    6\n",
      "key      c\n",
      "Name: 2, dtype: object\n"
     ]
    }
   ],
   "source": [
    "for idx,item in df.iterrows():\n",
    "    print(idx)\n",
    "    print(item)"
   ]
  },
  {
   "cell_type": "code",
   "execution_count": 9,
   "metadata": {},
   "outputs": [
    {
     "name": "stdout",
     "output_type": "stream",
     "text": [
      "data1\n",
      "0    1\n",
      "1    2\n",
      "2    3\n",
      "Name: data1, dtype: int64\n",
      "data2\n",
      "0    4\n",
      "1    5\n",
      "2    6\n",
      "Name: data2, dtype: int64\n",
      "key\n",
      "0    a\n",
      "1    b\n",
      "2    c\n",
      "Name: key, dtype: object\n"
     ]
    }
   ],
   "source": [
    "for idx,item in df.iteritems():\n",
    "    print(idx)\n",
    "    print(item)"
   ]
  },
  {
   "cell_type": "code",
   "execution_count": 16,
   "metadata": {},
   "outputs": [
    {
     "data": {
      "image/png": "[encoded data removed]",
      "text/plain": [
       "<matplotlib.figure.Figure at 0x2021e1b7e80>"
      ]
     },
     "metadata": {},
     "output_type": "display_data"
    }
   ],
   "source": [
    "import numpy as np\n",
    "import matplotlib.mlab as mlab\n",
    "import matplotlib.pyplot as plt\n",
    "\n",
    "def demo():\n",
    "    mu, sigma , num_bins = 0, 1, 50\n",
    "    x = mu + sigma * np.random.randn(1000000)\n",
    "    # 正态分布的数据\n",
    "    n, bins, patches = plt.hist(x, num_bins, normed=True, facecolor = 'blue', alpha = 0.5)\n",
    "    # 拟合曲线\n",
    "    y = mlab.normpdf(bins, mu, sigma)\n",
    "    plt.plot(bins, y, 'r--')\n",
    "    plt.xlabel('Expectation', fontproperties='Times New Roman')\n",
    "    plt.ylabel('Probability', fontproperties='Times New Roman')\n",
    "    plt.title('Histogram of Normal Distribution: $\\mu = 0$, $\\sigma=1$', fontproperties='Times New Roman')\n",
    "    plt.subplots_adjust(left = 0.15)\n",
    "    plt.savefig(\"./Normal.png\", dpi=400)\n",
    "    plt.show()\n",
    "demo()"
   ]
  },
  {
   "cell_type": "code",
   "execution_count": 18,
   "metadata": {},
   "outputs": [
    {
     "data": {
      "image/png": "[encoded data removed]",
      "text/plain": [
       "<matplotlib.figure.Figure at 0x202056c77b8>"
      ]
     },
     "metadata": {},
     "output_type": "display_data"
    }
   ],
   "source": [
    "import math\n",
    "import pylab as pl\n",
    "import numpy as np\n",
    "def gd(x,m,s):\n",
    "    left=1/(math.sqrt(2*math.pi)*s)\n",
    "    right=math.exp(-math.pow(x-m,2)/(2*math.pow(s,2)))\n",
    "    return left*right\n",
    "def showfigure():\n",
    "    x=np.arange(-4,5,0.1)\n",
    "    y=[]\n",
    "    for i in x:\n",
    "        y.append(gd(i,0,1))\n",
    "    pl.plot(x,y)  \n",
    "    pl.xlim(-4.0,5.0)\n",
    "    pl.ylim(-0.2,0.5)\n",
    "    ax = pl.gca()\n",
    "    ax.spines['right'].set_color('none')\n",
    "    ax.spines['top'].set_color('none')\n",
    "    ax.xaxis.set_ticks_position('bottom')\n",
    "    ax.spines['bottom'].set_position(('data',0))\n",
    "    ax.yaxis.set_ticks_position('left')\n",
    "    ax.spines['left'].set_position(('data',0))\n",
    "    #add param\n",
    "    label_f1 = \"$\\mu=0,\\ \\sigma=1$\"\n",
    "    pl.text(2.5,0.3,label_f1,fontsize=15,verticalalignment=\"top\",\n",
    "            horizontalalignment=\"left\")\n",
    "    label_f2 = r\"$f(x)=\\frac{1}{\\sqrt{2\\pi}\\sigma}exp(-\\frac{(x-\\mu)^2}{2\\sigma^2})$\"\n",
    "    pl.text(1.5,0.4,label_f2,fontsize=15,verticalalignment=\"top\"\n",
    "            ,horizontalalignment=\"left\")\n",
    "    plt.savefig(\"./Normal2.png\", dpi=400)\n",
    "    pl.show()\n",
    "showfigure()"
   ]
  },
  {
   "cell_type": "code",
   "execution_count": 21,
   "metadata": {},
   "outputs": [
    {
     "name": "stdout",
     "output_type": "stream",
     "text": [
      "Income: [[ 5000.]\n",
      " [58000.]\n",
      " [16000.]]\n",
      "After Min-Max Normalization: [[0.        ]\n",
      " [1.        ]\n",
      " [0.20754717]]\n"
     ]
    }
   ],
   "source": [
    "#假设属性income的最小值和最大值分别是5000元和58000元。利用Min-Max规范化的方法将属性的值映射到0至1的范围内，那么属性income的16000元将被转化为多少？\n",
    "# coding:utf-8\n",
    "from sklearn import preprocessing\n",
    "import numpy as np\n",
    "x = np.array([[5000.],[58000.],[16000.]])\n",
    "min_max_scaler = preprocessing.MinMaxScaler()\n",
    "minmax_x = min_max_scaler.fit_transform(x)\n",
    "print ('Income:',x)\n",
    "print('After Min-Max Normalization:',minmax_x)"
   ]
  },
  {
   "cell_type": "code",
   "execution_count": 23,
   "metadata": {},
   "outputs": [
    {
     "name": "stdout",
     "output_type": "stream",
     "text": [
      "X: [[ 1. -1.  2.]\n",
      " [ 2.  0.  0.]\n",
      " [ 0.  1. -1.]]\n",
      "After Z-score Normalization: [[ 0.         -1.22474487  1.33630621]\n",
      " [ 1.22474487  0.         -0.26726124]\n",
      " [-1.22474487  1.22474487 -1.06904497]]\n",
      "处理后数据的均值和方差: [0. 0. 0.] [1. 1. 1.]\n"
     ]
    }
   ],
   "source": [
    "from sklearn import preprocessing\n",
    "import numpy as np\n",
    "X = np.array([[ 1., -1.,  2.], [ 2.,  0.,  0.],[ 0.,  1., -1.]])\n",
    "X_scaled = preprocessing.scale(X)\n",
    "print('X:',X)\n",
    "print('After Z-score Normalization:',X_scaled)\n",
    "print('处理后数据的均值和方差:',X_scaled.mean(axis=0),X_scaled.std(axis=0))"
   ]
  },
  {
   "cell_type": "code",
   "execution_count": 2,
   "metadata": {},
   "outputs": [
    {
     "name": "stderr",
     "output_type": "stream",
     "text": [
      "Building prefix dict from the default dictionary ...\n",
      "Loading model from cache C:\\Users\\ALIENW~1\\AppData\\Local\\Temp\\jieba.cache\n"
     ]
    },
    {
     "name": "stdout",
     "output_type": "stream",
     "text": [
      "ID: 31357\n",
      "Item: HiPP喜宝有机Combiotic较大婴儿配方奶粉2段\n"
     ]
    },
    {
     "name": "stderr",
     "output_type": "stream",
     "text": [
      "Loading model cost 1.138 seconds.\n",
      "Prefix dict has been built succesfully.\n"
     ]
    },
    {
     "name": "stdout",
     "output_type": "stream",
     "text": [
      "分词后结果: HiPP|喜宝|有机|Combiotic|较大|婴儿|配方|奶粉\n",
      "ID: 31358\n",
      "Item: HiPP喜宝有机Combiotic婴儿配方奶粉1段\n",
      "分词后结果: HiPP|喜宝|有机|Combiotic|婴儿|配方|奶粉\n",
      "ID: 31359\n",
      "Item: HiPP喜宝有机Combiotic幼儿配方奶粉3段\n",
      "分词后结果: HiPP|喜宝|有机|Combiotic|幼儿|配方|奶粉\n",
      "ID: 31360\n",
      "Item: HiPP喜宝有机婴幼儿5种谷物粉200克/盒\n",
      "分词后结果: HiPP|喜宝|有机|婴幼儿|种|谷物|粉\n",
      "ID: 31361\n",
      "Item: 喜宝有机婴幼儿精选小米粉350g/盒\n",
      "分词后结果: 喜宝|有机|婴幼儿|精选|米粉|350g\n",
      "ID: 31362\n",
      "Item: HiPP喜宝有机婴幼儿大米粉200克/盒\n",
      "分词后结果: HiPP|喜宝|有机|婴幼儿|米粉\n",
      "ID: 31363\n",
      "Item: 德国HiPP喜宝益生元婴幼儿奶粉2+段\n",
      "分词后结果: 德国|HiPP|喜宝|益生元|婴幼儿|奶粉\n",
      "ID: 31364\n",
      "Item: 德国HiPP喜宝益生元婴幼儿奶粉2段\n",
      "分词后结果: 德国|HiPP|喜宝|益生元|婴幼儿|奶粉\n",
      "ID: 31365\n",
      "Item: 德国HiPP喜宝益生元婴幼儿乳奶粉1+段\n",
      "分词后结果: 德国|HiPP|喜宝|益生元|婴幼儿|乳|奶粉\n",
      "ID: 31366\n",
      "Item: 喜宝吸吸乐苹果草莓香蕉口味100g/袋\n",
      "分词后结果: 喜宝|吸吸乐|苹果|草莓|香蕉|口味|100g\n",
      "ID: 31367\n",
      "Item: 喜宝吸吸乐梨香蕉猕猴桃口味100g/袋\n",
      "分词后结果: 喜宝|吸吸乐|梨|香蕉|猕猴桃|口味|100g\n",
      "ID: 31368\n",
      "Item: 喜宝吸吸乐苹果梨香蕉口味100g/袋\n",
      "分词后结果: 喜宝|吸吸乐|苹果梨|香蕉|口味|100g\n",
      "ID: 31369\n",
      "Item: 喜宝吸吸乐苹果桃子莓果口味100g/袋\n",
      "分词后结果: 喜宝|吸吸乐|苹果|桃子|莓果|口味|100g\n",
      "ID: 31370\n",
      "Item: 喜宝吸吸乐苹果芒果桃子口味100g/袋\n",
      "分词后结果: 喜宝|吸吸乐|苹果|芒果|桃子|口味|100g\n",
      "ID: 31371\n",
      "Item: 喜宝吸吸乐梨苹果芒果百香果口味100g/袋\n",
      "分词后结果: 喜宝|吸吸乐|梨|苹果|芒果|百香果|口味|100g\n",
      "ID: 31372\n",
      "Item: 喜宝有机奶粉2段800克\n",
      "分词后结果: 喜宝|有机|奶粉\n",
      "ID: 31373\n",
      "Item: 德国HiPP喜宝有机奶粉3段_800g\n",
      "分词后结果: 德国|HiPP|喜宝|有机|奶粉|800g\n",
      "ID: 31374\n",
      "Item: Purtier月见草核苷酸胶囊60粒/瓶\n",
      "分词后结果: Purtier|月见草|核苷酸|胶囊\n",
      "ID: 31375\n",
      "Item: SoriaNatural森力亚天然铁源素口服液250ml/瓶\n",
      "分词后结果: SoriaNatural|森力亚|天然|铁源素|口服液|250ml\n",
      "ID: 31376\n",
      "Item: SoriaNatural森力亚皇金肝口服液\n",
      "分词后结果: SoriaNatural|森力亚|皇金肝|口服液\n",
      "ID: 31377\n",
      "Item: Swisse kids儿童脑部发育益智DHA软胶囊30粒\n",
      "分词后结果: Swisse|kids|儿童|脑部|发育|益智|DHA|软胶囊\n",
      "ID: 31378\n",
      "Item: Swisse Ultiboost补铁片30片\n",
      "分词后结果: Swisse|Ultiboost|补|铁片\n",
      "ID: 31379\n",
      "Item: Swisse蔓越莓毛孔修复面膜70G\n",
      "分词后结果: Swisse|蔓越莓|毛孔|修复|面膜|70G\n",
      "ID: 31380\n",
      "Item: Swisse黄瓜卸妆液300ml\n",
      "分词后结果: Swisse|黄瓜|卸妆液|300ml\n",
      "ID: 31381\n",
      "Item: Swisse摩洛哥坚果抗老化眼霜15ml\n",
      "分词后结果: Swisse|摩洛哥|坚果|抗老化|眼霜|15ml\n",
      "ID: 31382\n",
      "Item: 胶原蛋白加透明质酸片\n",
      "分词后结果: 胶原蛋白|加|透明质|酸片\n",
      "ID: 31383\n",
      "Item: Swisse睡眠改善片100片\n",
      "分词后结果: Swisse|睡眠|改善\n",
      "ID: 31384\n",
      "Item: Swisse深海鱼油软胶囊无腥味1500mg400粒新版\n",
      "分词后结果: Swisse|深海鱼|油|软胶囊|腥味|1500mg400|新版\n",
      "ID: 31385\n",
      "Item: Swisse维C泡腾片60片新\n",
      "分词后结果: Swisse|维C|泡腾片|片新\n",
      "ID: 31386\n",
      "Item: Swisse钙+维生素D片150片\n",
      "分词后结果: Swisse|钙|维生素|D\n",
      "ID: 31387\n",
      "Item: Swisse葡萄糖胺片180片\n",
      "分词后结果: Swisse|葡萄糖|胺片\n",
      "ID: 31388\n",
      "Item: Swisse婴幼儿DHA+EPA鱼油软胶囊新版60粒\n",
      "分词后结果: Swisse|婴幼儿|DHA|EPA|鱼油|软胶囊|新版\n",
      "ID: 31389\n",
      "Item: Swisse婴幼儿柠檬酸钙D软胶囊60粒\n",
      "分词后结果: Swisse|婴幼儿|柠檬酸|钙|D|软胶囊\n",
      "ID: 31390\n",
      "Item: Swisse奶蓟草肝脏排毒片120片\n",
      "分词后结果: Swisse|奶蓟草|肝脏|排毒\n",
      "ID: 31391\n",
      "Item: Swisse儿童骨骼成长咀嚼片50片\n",
      "分词后结果: Swisse|儿童|骨骼|成长|咀嚼片\n",
      "ID: 31392\n",
      "Item: Swisse高强度蜂胶胶囊210粒\n",
      "分词后结果: Swisse|高强度|蜂胶|胶囊\n",
      "ID: 31393\n",
      "Item: Swisse胶原蛋白液500ml\n",
      "分词后结果: Swisse|胶原蛋白|液|500ml\n",
      "ID: 31394\n",
      "Item: Swisse清肺片90片\n",
      "分词后结果: Swisse|清肺\n",
      "ID: 31395\n",
      "Item: Swisse高强度蔓越莓胶囊25000mg30粒\n",
      "分词后结果: Swisse|高强度|蔓越莓|胶囊|25000mg30\n",
      "ID: 31396\n",
      "Item: Swisse月见草油胶囊200粒\n",
      "分词后结果: Swisse|月见草|油|胶囊\n",
      "ID: 31397\n",
      "Item: Swisse Ultiboost补铁片30片\n",
      "分词后结果: Swisse|Ultiboost|补铁\n",
      "ID: 31398\n",
      "Item: Swisse男性复合维生素120片\n",
      "分词后结果: Swisse|男性|复合|维生素\n",
      "ID: 31399\n",
      "Item: Swisse儿童复合维生素咀嚼片120\n",
      "分词后结果: Swisse|儿童|复合|维生素|咀嚼片\n",
      "ID: 31400\n",
      "Item: Swisse葡萄籽精华片14250mg180片\n",
      "分词后结果: Swisse|葡萄籽|精华|14250mg180\n",
      "ID: 31401\n",
      "Item: Swisse女性复合维生素120片\n",
      "分词后结果: Swisse|女性|复合|维生素\n",
      "ID: 31402\n",
      "Item: Swisse麦卢卡蜂蜜净化面膜50ml\n",
      "分词后结果: Swisse|麦|卢卡|蜂蜜|净化|面膜|50ml\n",
      "ID: 31403\n",
      "Item: Swisse梅子味叶绿素液500ml\n",
      "分词后结果: Swisse|梅子|味|叶绿素|液|500ml\n",
      "ID: 31404\n",
      "Item: Swisse辅酶Q10g胶囊150m50粒\n",
      "分词后结果: Swisse|辅酶|Q10g|胶囊|150m50\n",
      "ID: 31405\n",
      "Item: Swisse婴幼儿柠檬酸钙D胶囊60粒\n",
      "分词后结果: Swisse|婴幼儿|柠檬酸|钙|D|胶囊\n",
      "ID: 31406\n",
      "Item: Swisse卵磷脂胶囊1200mg150粒\n",
      "分词后结果: Swisse|卵磷脂|胶囊|1200mg150\n",
      "ID: 31407\n",
      "Item: Swisse维C泡腾片60片\n",
      "分词后结果: Swisse|维C|泡腾片\n",
      "ID: 31408\n",
      "Item: Swisse高强度西芹籽精华胶囊5000mg50粒\n",
      "分词后结果: Swisse|高强度|西芹|籽|精华|胶囊|5000mg50\n",
      "ID: 31409\n",
      "Item: Swisse婴幼儿维生素D3滴剂30ml\n",
      "分词后结果: Swisse|婴幼儿|维生素|D3|滴剂|30ml\n",
      "ID: 31410\n",
      "Item: Swisse儿童益智鱼油咀嚼胶囊90粒\n",
      "分词后结果: Swisse|儿童|益智|鱼油|咀嚼|胶囊\n",
      "ID: 31411\n",
      "Item: Swisse婴幼儿维生素D滴剂30ml\n",
      "分词后结果: Swisse|婴幼儿|维生素|D|滴剂|30ml\n",
      "ID: 31412\n",
      "Item: Swisse儿童复合维生素咀嚼片120片\n",
      "分词后结果: Swisse|儿童|复合|维生素|咀嚼片\n",
      "ID: 31413\n",
      "Item: Swisse无腥味高强度野生鱼油胶囊1500mg400粒/盒\n",
      "分词后结果: Swisse|腥味|高强度|野生|鱼油|胶囊|1500mg400\n",
      "ID: 31414\n",
      "Item: Swisse无腥味高强度野生鱼油胶囊1500mg400粒\n",
      "分词后结果: Swisse|腥味|高强度|野生|鱼油|胶囊|1500mg400\n",
      "ID: 31415\n",
      "Item: Wyeth惠氏S-26铂臻HMO配方奶粉900g1段0-6个月\n",
      "分词后结果: Wyeth|惠氏|S|铂臻|HMO|配方|奶粉|900g1\n",
      "ID: 31416\n",
      "Item: Wyeth惠氏S-26铂臻HMO配方奶粉900g2段6-12个月\n",
      "分词后结果: Wyeth|惠氏|S|铂臻|HMO|配方|奶粉|900g2\n",
      "ID: 31417\n",
      "Item: Wyeth惠氏S-26铂臻HMO配方奶粉900g3段1-3岁\n",
      "分词后结果: Wyeth|惠氏|S|铂臻|HMO|配方|奶粉|900g3\n",
      "ID: 31418\n",
      "Item: 爱智宝婴儿配方奶粉2段\n",
      "分词后结果: 爱智宝|婴儿|配方|奶粉\n",
      "ID: 31419\n",
      "Item: 安热沙金钻防晒霜SPF50+60ml/瓶\n",
      "分词后结果: 安热|沙金|钻|防晒霜|SPF50|60ml\n",
      "ID: 31420\n",
      "Item: 芭乐雅玻尿酸精华晚霜\n",
      "分词后结果: 芭乐雅|玻尿酸|精华|晚霜\n",
      "ID: 31421\n",
      "Item: 超品能量型维生素运动饮料--经典口味\n",
      "分词后结果: 超品|能量|型|维生素|运动|饮料|经典|口味\n",
      "ID: 31422\n",
      "Item: 超品能量型维生素运动饮料--可乐口味\n",
      "分词后结果: 超品|能量|型|维生素|运动|饮料|可乐|口味\n",
      "ID: 31423\n",
      "Item: 超品能量型维生素运动饮料--零度口味\n",
      "分词后结果: 超品|能量|型|维生素|运动|饮料|零度|口味\n",
      "ID: 31424\n",
      "Item: 超品能量型维生素运动饮料--苹果口味\n",
      "分词后结果: 超品|能量|型|维生素|运动|饮料|苹果|口味\n",
      "ID: 31425\n",
      "Item: 超品能量型维生素运动饮料--奇异果&柠檬口味\n",
      "分词后结果: 超品|能量|型|维生素|运动|饮料|奇异果|&|柠檬|口味\n",
      "ID: 31426\n",
      "Item: 超品能量型维生素运动饮料--西瓜口味\n",
      "分词后结果: 超品|能量|型|维生素|运动|饮料|西瓜|口味\n",
      "ID: 31427\n",
      "Item: 德国Doppelherz双心补铁口服液500ml/瓶\n",
      "分词后结果: 德国|Doppelherz|双心|补铁|口服液|500ml\n",
      "ID: 31428\n",
      "Item: 德国HiPP喜宝益生元婴幼儿奶粉PRE段\n",
      "分词后结果: 德国|HiPP|喜宝|益生元|婴幼儿|奶粉|PRE\n",
      "ID: 31429\n",
      "Item: 德国HiPP喜宝有机婴幼儿奶粉ab12+段\n",
      "分词后结果: 德国|HiPP|喜宝|有机|婴幼儿|奶粉|ab12\n",
      "ID: 31430\n",
      "Item: 德国HiPP喜宝益生元婴幼儿奶粉3段\n",
      "分词后结果: 德国|HiPP|喜宝|益生元|婴幼儿|奶粉\n",
      "ID: 31431\n",
      "Item: 德国HiPP喜宝益生元婴幼儿奶粉1段\n",
      "分词后结果: 德国|HiPP|喜宝|益生元|婴幼儿|奶粉\n",
      "ID: 31432\n",
      "Item: 喜宝有机BIO1段\n",
      "分词后结果: 喜宝|有机|BIO1\n",
      "ID: 31433\n",
      "Item: 喜宝有机奶粉Pre阶（17版）600g/盒\n",
      "分词后结果: 喜宝|有机|奶粉|Pre|阶|版|600g\n",
      "ID: 31434\n",
      "Item: 德国Salus莎露斯Floradix有机红铁片126/盒\n",
      "分词后结果: 德国|Salus|莎露斯|Floradix|有机|红|铁片\n",
      "ID: 31435\n",
      "Item: 德国Salus莎露斯补铁叶酸胶囊\n",
      "分词后结果: 德国|Salus|莎露斯|补铁|叶酸|胶囊\n",
      "ID: 31436\n",
      "Item: 德国Salus莎露斯青少年补钙、维他命D3营养液250毫升/瓶\n",
      "分词后结果: 德国|Salus|莎露斯|青少年|补钙|维他命|D3|营养液|毫升\n",
      "ID: 31437\n",
      "Item: 德国Salus莎露斯儿童铁元250mL\n",
      "分词后结果: 德国|Salus|莎露斯|儿童|铁元|250mL\n",
      "ID: 31438\n",
      "Item: 德国Bambinchen蓝色星球婴幼儿羊奶粉1段400g\n",
      "分词后结果: 德国|Bambinchen|蓝色|星球|婴幼儿|羊奶粉|400g\n",
      "ID: 31439\n",
      "Item: 德国Bambinchen蓝色星球婴幼儿羊奶粉2段400g\n",
      "分词后结果: 德国|Bambinchen|蓝色|星球|婴幼儿|羊奶粉|400g\n",
      "ID: 31440\n",
      "Item: 德国Bambinchen蓝色星球婴幼儿羊奶粉ab12段400g\n",
      "分词后结果: 德国|Bambinchen|蓝色|星球|婴幼儿|羊奶粉|ab12|400g\n",
      "ID: 31441\n",
      "Item: 德国Salus莎露斯野玫瑰果天然氨糖软骨素口服液500ml/瓶\n",
      "分词后结果: 德国|Salus|莎露斯|野玫瑰|果|天然|氨糖|软骨素|口服液|500ml\n",
      "ID: 31442\n",
      "Item: 德国Salus莎露斯Floradix铁元草本滋补液红元500ml/瓶\n",
      "分词后结果: 德国|Salus|莎露斯|Floradix|铁元|草本|滋补|液红元|500ml\n",
      "ID: 31443\n",
      "Item: 德国世家律动抗敏甘露安瓶S\n",
      "分词后结果: 德国世家|律动|抗敏|甘露|安瓶|S\n",
      "ID: 31444\n",
      "Item: 德国世家律动玫瑰日霜清爽型\n",
      "分词后结果: 德国世家|律动|玫瑰|日霜|清爽型\n",
      "ID: 31445\n",
      "Item: 德国世家律动调理液\n",
      "分词后结果: 德国世家|律动|调理液\n",
      "ID: 31446\n",
      "Item: 德国世家律动夜间甘露安瓶N\n",
      "分词后结果: 德国世家|律动|夜间|甘露|安瓶|N\n",
      "ID: 31447\n",
      "Item: 德国世家香蜂草日霜\n",
      "分词后结果: 德国世家|香蜂草|日霜\n",
      "ID: 31448\n",
      "Item: 德国世家夜间修护精华液\n",
      "分词后结果: 德国世家|夜间|修护|精华液\n",
      "ID: 31449\n",
      "Item: 蒂佳婷灰色药丸水润面膜5片/盒\n",
      "分词后结果: 蒂佳婷|灰色|药丸|水润|面膜\n",
      "ID: 31450\n",
      "Item: 蒂佳婷绿色药丸水润面膜5片/盒\n",
      "分词后结果: 蒂佳婷|绿色|药丸|水润|面膜\n",
      "ID: 31451\n",
      "Item: 蒂佳婷蓝色药丸锁水面膜5片/盒\n",
      "分词后结果: 蒂佳婷|蓝色|药丸|锁水|面膜\n",
      "ID: 31452\n",
      "Item: 菲仕乐烹饪计时器\n",
      "分词后结果: 菲仕乐|烹饪|计时器\n",
      "ID: 31453\n",
      "Item: 菲仕乐味达维专业压力锅\n",
      "分词后结果: 菲仕乐味|达维|专业|压力锅\n",
      "ID: 31454\n",
      "Item: 福腾宝CERADURPLUS系列中华炒锅\n",
      "分词后结果: 福腾宝|CERADURPLUS|系列|中华|炒锅\n",
      "ID: 31455\n",
      "Item: 好奇（Huggies）婴儿纸尿裤铂金装韩国进口M72+4片\n",
      "分词后结果: 好奇|Huggies|婴儿|纸尿裤|铂金|装|韩国|进口|M72\n",
      "ID: 31456\n",
      "Item: 好奇（Huggies）婴儿纸尿裤铂金装韩国进口XL44+4片\n",
      "分词后结果: 好奇|Huggies|婴儿|纸尿裤|铂金|装|韩国|进口|XL44\n",
      "ID: 31457\n",
      "Item: 好奇（Huggies）婴儿纸尿裤铂金装韩国进口NB76+4片\n",
      "分词后结果: 好奇|Huggies|婴儿|纸尿裤|铂金|装|韩国|进口|NB76\n",
      "ID: 31458\n",
      "Item: 好奇（Huggies）婴儿纸尿裤铂金装韩国进口S76+4片\n",
      "分词后结果: 好奇|Huggies|婴儿|纸尿裤|铂金|装|韩国|进口|S76\n",
      "ID: 31459\n",
      "Item: 好奇(Huggies)成长裤魔术系列5段XL33片加大号尿不湿男宝13-18kg(韩国原装进口)\n",
      "分词后结果: 好奇|Huggies|成长|裤|魔术|系列|XL33|加大|号|尿不湿|男宝|18kg|韩国|原装|进口\n",
      "ID: 31460\n",
      "Item: 好奇(Huggies)成长裤魔术系列4段L40片大号尿不湿男宝10-14kg(韩国原装进口)\n",
      "分词后结果: 好奇|Huggies|成长|裤|魔术|系列|L40|片大号|尿不湿|男宝|14kg|韩国|原装|进口\n",
      "ID: 31461\n",
      "Item: 好奇(Huggies)成长裤魔术系列4段L40片大号尿不湿女宝10-14kg(韩国原装进口)\n",
      "分词后结果: 好奇|Huggies|成长|裤|魔术|系列|L40|片大号|尿不湿|女宝|14kg|韩国|原装|进口\n",
      "ID: 31462\n",
      "Item: 贺本清小甘菊护手霜\n",
      "分词后结果: 贺本|清小|甘菊|护手霜\n",
      "ID: 31463\n",
      "Item: 雅漾舒活泉喷雾\n",
      "分词后结果: 雅漾|舒|活泉|喷雾\n",
      "ID: 31464\n",
      "Item: 皇家美素佳儿香港版成长配方奶粉3段800g/罐\n",
      "分词后结果: 皇家|美素|佳儿|香港|版|成长|配方|奶粉|800g\n",
      "ID: 31465\n",
      "Item: 皇家美素佳儿香港版成长配方奶粉4段800g/罐\n",
      "分词后结果: 皇家|美素|佳儿|香港|版|成长|配方|奶粉|800g\n",
      "ID: 31466\n",
      "Item: 皇家美素佳儿香港版较大婴儿配方奶粉2段800g/罐\n",
      "分词后结果: 皇家|美素|佳儿|香港|版|较大|婴儿|配方|奶粉|800g\n",
      "ID: 31467\n",
      "Item: 皇家美素力香港版婴儿配方奶粉1段800g/罐\n",
      "分词后结果: 皇家|美素力|香港|版|婴儿|配方|奶粉|800g\n",
      "ID: 31468\n",
      "Item: 惠氏BABYNES较大婴儿配方奶粉5段26粒/盒港版\n",
      "分词后结果: 惠氏|BABYNES|较大|婴儿|配方|奶粉|港版\n",
      "ID: 31469\n",
      "Item: 惠氏BABYNES较大婴儿配方奶粉6段26粒/盒港版\n",
      "分词后结果: 惠氏|BABYNES|较大|婴儿|配方|奶粉|港版\n",
      "ID: 31470\n",
      "Item: 惠氏乳蛋白部分水解较大婴儿配方奶粉4段26粒/盒港版\n",
      "分词后结果: 惠氏|乳蛋白|部分|水解|较大|婴儿|配方|奶粉|港版\n",
      "ID: 31471\n",
      "Item: 惠氏BABYNES乳蛋白部分水解较大婴儿配方奶粉4段26粒/盒港版\n",
      "分词后结果: 惠氏|BABYNES|乳蛋白|部分|水解|较大|婴儿|配方|奶粉|港版\n",
      "ID: 31472\n",
      "Item: 惠氏BABYNES乳蛋白部分水解婴儿配方奶粉1段26粒/盒港版\n",
      "分词后结果: 惠氏|BABYNES|乳蛋白|部分|水解|婴儿|配方|奶粉|港版\n",
      "ID: 31473\n",
      "Item: 惠氏BABYNES乳蛋白部分水解婴儿配方奶粉2段26粒/盒港版\n",
      "分词后结果: 惠氏|BABYNES|乳蛋白|部分|水解|婴儿|配方|奶粉|港版\n",
      "ID: 31474\n",
      "Item: 惠氏乳蛋白部分水解婴儿配方奶粉2段26粒/盒港版\n",
      "分词后结果: 惠氏|乳蛋白|部分|水解|婴儿|配方|奶粉|港版\n",
      "ID: 31475\n",
      "Item: 惠氏BABYNES乳蛋白部分水解婴儿配方奶粉3段26粒/盒港版\n",
      "分词后结果: 惠氏|BABYNES|乳蛋白|部分|水解|婴儿|配方|奶粉|港版\n",
      "ID: 31476\n",
      "Item: 惠氏孕产妇配方奶粉(哺乳期)26粒/盒港版\n",
      "分词后结果: 惠氏|孕产妇|配方|奶粉|哺乳期|港版\n",
      "ID: 31477\n",
      "Item: 惠氏乳蛋白部分水解婴儿配方奶粉1段26粒/盒港版\n",
      "分词后结果: 惠氏|乳蛋白|部分|水解|婴儿|配方|奶粉|港版\n",
      "ID: 31478\n",
      "Item: 惠氏乳蛋白部分水解婴儿配方奶粉3段26粒/盒港版\n",
      "分词后结果: 惠氏|乳蛋白|部分|水解|婴儿|配方|奶粉|港版\n",
      "ID: 31479\n",
      "Item: 惠氏孕产妇配方奶粉(孕期)26粒/盒港版\n",
      "分词后结果: 惠氏|孕产妇|配方|奶粉|孕期|港版\n",
      "ID: 31480\n",
      "Item: 兰芝调色隔离霜SPF25粉色30ml/支\n",
      "分词后结果: 兰芝|调色|隔离霜|SPF25|粉色|30ml\n",
      "ID: 31481\n",
      "Item: 兰芝调色隔离霜SPF25绿色30ml/支\n",
      "分词后结果: 兰芝|调色|隔离霜|SPF25|绿色|30ml\n",
      "ID: 31482\n",
      "Item: 兰芝调色隔离霜SPF25紫色30ml/支\n",
      "分词后结果: 兰芝|调色|隔离霜|SPF25|紫色|30ml\n",
      "ID: 31483\n",
      "Item: 满趣健草饲婴幼儿配方奶粉3段730g/罐\n",
      "分词后结果: 满趣|健草|饲|婴幼儿|配方|奶粉|730g\n",
      "ID: 31484\n",
      "Item: 美国雅培AbbottPureBliss婴幼儿奶粉(0-12个月)700g\n",
      "分词后结果: 美国|雅培|AbbottPureBliss|婴幼儿|奶粉|700g\n",
      "ID: 31485\n",
      "Item: 美国雅培AbbottPureBliss婴幼儿奶粉(12-36个月)700g\n",
      "分词后结果: 美国|雅培|AbbottPureBliss|婴幼儿|奶粉|700g\n",
      "ID: 31486\n",
      "Item: 瑞士雀巢婴幼儿配方奶粉超级白金版3段800g/罐\n",
      "分词后结果: 瑞士|雀巢|婴幼儿|配方|奶粉|超级|白金版|800g\n",
      "ID: 31487\n",
      "Item: 瑞士雀巢婴幼儿配方奶粉超级白金版2段800g/罐\n",
      "分词后结果: 瑞士|雀巢|婴幼儿|配方|奶粉|超级|白金版|800g\n",
      "ID: 31488\n",
      "Item: 雅培心美力幼儿配方奶粉2段\n",
      "分词后结果: 雅培|心美力|幼儿|配方|奶粉\n",
      "ID: 31489\n",
      "Item: 雅培心美力幼儿配方奶粉1段\n",
      "分词后结果: 雅培|心美力|幼儿|配方|奶粉\n",
      "ID: 31490\n",
      "Item: 雅培乳清蛋白部分水解婴儿配方奶粉2段\n",
      "分词后结果: 雅培|乳清|蛋白|部分|水解|婴儿|配方|奶粉\n",
      "ID: 31491\n",
      "Item: 雅培心美力幼儿配方奶粉3段\n",
      "分词后结果: 雅培|心美力|幼儿|配方|奶粉\n",
      "ID: 31492\n",
      "Item: 雅培乳清蛋白部分水解婴儿配方奶粉3段\n",
      "分词后结果: 雅培|乳清|蛋白|部分|水解|婴儿|配方|奶粉\n",
      "ID: 31493\n",
      "Item: 普贝缇伊丽莎白安妮儿童保湿润肤乳100ml\n",
      "分词后结果: 普贝|缇|伊丽莎白|安妮|儿童|保湿|润肤乳|100ml\n",
      "ID: 31494\n",
      "Item: 普贝缇伊丽莎白安妮滋养柔顺洗发水125ml\n",
      "分词后结果: 普贝|缇|伊丽莎白|安妮|滋养|柔顺|洗发水|125ml\n",
      "ID: 31495\n",
      "Item: 雀巢婴幼儿配方奶粉EVOLIAHA2段800g\n",
      "分词后结果: 雀巢|婴幼儿|配方|奶粉|EVOLIAHA2|800g\n",
      "ID: 31496\n",
      "Item: 雀巢婴幼儿配方奶粉EVOLIAHA3段800g\n",
      "分词后结果: 雀巢|婴幼儿|配方|奶粉|EVOLIAHA3|800g\n",
      "ID: 31497\n",
      "Item: 雀巢婴幼儿配方奶粉EVOLIAHA1段800g\n",
      "分词后结果: 雀巢|婴幼儿|配方|奶粉|EVOLIAHA1|800g\n",
      "ID: 31498\n",
      "Item: 瑞士雀巢婴幼儿配方奶粉超级白金版1段800g/罐\n",
      "分词后结果: 瑞士|雀巢|婴幼儿|配方|奶粉|超级|白金版|800g\n",
      "ID: 31499\n",
      "Item: 施巴柔润保湿面霜\n",
      "分词后结果: 施巴|柔润|保湿|面霜\n",
      "ID: 31500\n",
      "Item: 施巴婴儿身体乳\n",
      "分词后结果: 施巴|婴儿|身体|乳\n",
      "ID: 31501\n",
      "Item: 双立人MT系列不锈钢皂\n",
      "分词后结果: 双立人|MT|系列|不锈钢|皂\n",
      "ID: 31502\n",
      "Item: 双立人凯蒂猫儿童餐具\n",
      "分词后结果: 双立人|凯蒂|猫|儿童|餐具\n",
      "ID: 31503\n",
      "Item: 双心多维叶黄素玉米黄素胶囊\n",
      "分词后结果: 双心|多维|叶黄素|玉米|黄素|胶囊\n",
      "ID: 31504\n",
      "Item: 双心维生素C加锌泡腾片\n",
      "分词后结果: 双心|维生素|C|加锌|泡腾片\n",
      "ID: 31505\n",
      "Item: 喜宝HiPP小黄鸭婴儿洗手洗脸液填充装二合一250ml/瓶\n",
      "分词后结果: 喜宝|HiPP|小黄|鸭|婴儿|洗手|洗脸|液|填充|装|二合一|250ml\n",
      "ID: 31506\n",
      "Item: 喜宝HiPP小黄鸭子泡泡洗手洗脸液二合一250ml\n",
      "分词后结果: 喜宝|HiPP|小黄|鸭子|泡泡|洗手|洗脸|液|二合一|250ml\n",
      "ID: 31507\n",
      "Item: 喜宝HiPP婴幼儿童免敏小海狮儿童洗发沐浴乳二合一200ml\n",
      "分词后结果: 喜宝|HiPP|婴幼儿|童免|敏|海狮|儿童|洗发|沐浴乳|二合一|200ml\n",
      "ID: 31508\n",
      "Item: 喜宝小乌龟儿童护肤霜100ml/瓶\n",
      "分词后结果: 喜宝|乌龟|儿童|护肤霜|100ml\n",
      "ID: 31509\n",
      "Item: 喜力特PROFI系列炒锅\n",
      "分词后结果: 喜力特|PROFI|系列|炒锅\n",
      "ID: 31510\n",
      "Item: 喜力特SELARASTONE系列炒锅\n",
      "分词后结果: 喜力特|SELARASTONE|系列|炒锅\n",
      "ID: 31511\n",
      "Item: 雅培Alimentum深度水解婴儿配方奶粉1段\n",
      "分词后结果: 雅培|Alimentum|深度|水解|婴儿|配方|奶粉\n",
      "ID: 31512\n",
      "Item: 雅培粉末冲剂混合水果味1盒\n",
      "分词后结果: 雅培|粉末|冲剂|混合|水果|味\n",
      "ID: 31513\n",
      "Item: 雅培乳清蛋白部分水解婴儿配方奶粉1段\n",
      "分词后结果: 雅培|乳清|蛋白|部分|水解|婴儿|配方|奶粉\n",
      "ID: 31514\n",
      "Item: 雅培心美力HMO乳蛋白部分水解较大婴儿配方奶粉2段820克/罐\n",
      "分词后结果: 雅培|心美力|HMO|乳蛋白|部分|水解|较大|婴儿|配方|奶粉\n",
      "ID: 31515\n",
      "Item: 雅培心美力HMO乳蛋白部分水解婴儿配方奶粉1段820克/罐\n",
      "分词后结果: 雅培|心美力|HMO|乳蛋白|部分|水解|婴儿|配方|奶粉\n",
      "ID: 31516\n",
      "Item: 雅培心美力HMO乳蛋白部分水解幼儿配方奶粉3段820克/罐\n",
      "分词后结果: 雅培|心美力|HMO|乳蛋白|部分|水解|幼儿|配方|奶粉\n",
      "ID: 31517\n",
      "Item: 雅培营养冲剂香橙味1盒\n",
      "分词后结果: 雅培|营养|冲剂|香橙|味\n",
      "ID: 31518\n",
      "Item: 英格拉姆护手霜75ml\n",
      "分词后结果: 英格拉姆|护手霜|75ml\n",
      "删除停用词,并分词成功！\n",
      "主题的单词分布为：\n",
      "\n",
      "(0, '0.025*\"HiPP\" + 0.022*\"有机\" + 0.022*\"喜宝\" + 0.019*\"婴幼儿\" + 0.019*\"奶粉\" + 0.014*\"德国\" + 0.014*\"Combiotic\" + 0.013*\"益生元\" + 0.012*\"配方\" + 0.011*\"维生素\" + 0.011*\"较大\" + 0.010*\"Swisse\" + 0.009*\"米粉\" + 0.009*\"钙\" + 0.009*\"幼儿\" + 0.009*\"婴儿\" + 0.008*\"D\" + 0.008*\"雅培\" + 0.008*\"惠氏\" + 0.007*\"软胶囊\" + 0.007*\"味\" + 0.007*\"30ml\" + 0.007*\"港版\" + 0.007*\"鱼油\" + 0.006*\"超品\" + 0.006*\"饮料\" + 0.006*\"运动\" + 0.006*\"型\" + 0.006*\"能量\" + 0.006*\"ab12\"')\n",
      "(1, '0.014*\"蓝色\" + 0.013*\"德国\" + 0.011*\"Bambinchen\" + 0.011*\"星球\" + 0.011*\"400g\" + 0.011*\"羊奶粉\" + 0.010*\"液\" + 0.010*\"面膜\" + 0.010*\"Swisse\" + 0.009*\"250ml\" + 0.008*\"惠氏\" + 0.008*\"婴幼儿\" + 0.008*\"胶囊\" + 0.008*\"蒂佳婷\" + 0.008*\"药丸\" + 0.008*\"HiPP\" + 0.008*\"精华\" + 0.007*\"500ml\" + 0.007*\"天然\" + 0.007*\"港版\" + 0.007*\"高强度\" + 0.007*\"胺片\" + 0.007*\"葡萄糖\" + 0.007*\"小黄\" + 0.007*\"洗手\" + 0.007*\"洗脸\" + 0.006*\"孕期\" + 0.006*\"奶粉\" + 0.006*\"月见草\" + 0.006*\"油\"')\n",
      "(2, '0.020*\"Swisse\" + 0.013*\"胶囊\" + 0.013*\"维C\" + 0.012*\"维生素\" + 0.012*\"泡腾片\" + 0.011*\"纸尿裤\" + 0.011*\"铂金\" + 0.011*\"装\" + 0.010*\"清肺\" + 0.010*\"Huggies\" + 0.010*\"好奇\" + 0.010*\"进口\" + 0.010*\"韩国\" + 0.010*\"德国世家\" + 0.008*\"蜂胶\" + 0.008*\"男性\" + 0.008*\"EVOLIAHA3\" + 0.008*\"调理液\" + 0.008*\"改善\" + 0.008*\"睡眠\" + 0.008*\"香蜂草\" + 0.008*\"婴幼儿\" + 0.007*\"1200mg150\" + 0.007*\"卵磷脂\" + 0.007*\"饮料\" + 0.007*\"能量\" + 0.007*\"超品\" + 0.007*\"型\" + 0.007*\"运动\" + 0.007*\"片新\"')\n",
      "(3, '0.020*\"雅培\" + 0.020*\"奶粉\" + 0.017*\"幼儿\" + 0.016*\"配方\" + 0.016*\"心美力\" + 0.013*\"Ultiboost\" + 0.011*\"补铁\" + 0.011*\"婴儿\" + 0.011*\"喜力特\" + 0.011*\"有机\" + 0.010*\"铁片\" + 0.010*\"炒锅\" + 0.010*\"水解\" + 0.010*\"800g\" + 0.009*\"喜宝\" + 0.009*\"德国\" + 0.009*\"香港\" + 0.009*\"皇家\" + 0.008*\"HMO\" + 0.008*\"婴幼儿\" + 0.008*\"版\" + 0.008*\"系列\" + 0.007*\"部分\" + 0.007*\"补\" + 0.007*\"益生元\" + 0.007*\"身体\" + 0.007*\"深度\" + 0.007*\"Alimentum\" + 0.007*\"PROFI\" + 0.007*\"SELARASTONE\"')\n",
      "(4, '0.020*\"乳蛋白\" + 0.019*\"部分\" + 0.018*\"水解\" + 0.016*\"港版\" + 0.015*\"惠氏\" + 0.015*\"BABYNES\" + 0.015*\"配方\" + 0.014*\"婴儿\" + 0.012*\"奶粉\" + 0.011*\"儿童\" + 0.011*\"白金版\" + 0.011*\"超级\" + 0.011*\"瑞士\" + 0.010*\"BIO1\" + 0.010*\"100ml\" + 0.009*\"雀巢\" + 0.009*\"婴幼儿\" + 0.008*\"800g\" + 0.008*\"喜宝\" + 0.007*\"菲仕乐\" + 0.007*\"烹饪\" + 0.007*\"计时器\" + 0.007*\"肝脏\" + 0.007*\"奶蓟草\" + 0.007*\"排毒\" + 0.007*\"柠檬酸\" + 0.007*\"护肤霜\" + 0.007*\"乌龟\" + 0.007*\"零度\" + 0.007*\"钙\"')\n",
      "(5, '0.017*\"配方\" + 0.016*\"吸吸乐\" + 0.016*\"100g\" + 0.015*\"奶粉\" + 0.015*\"口味\" + 0.014*\"婴儿\" + 0.013*\"部分\" + 0.013*\"水解\" + 0.013*\"咀嚼片\" + 0.012*\"复合\" + 0.012*\"港版\" + 0.011*\"Swisse\" + 0.011*\"惠氏\" + 0.011*\"苹果\" + 0.011*\"儿童\" + 0.011*\"喜宝\" + 0.010*\"维生素\" + 0.010*\"成长\" + 0.010*\"800g\" + 0.010*\"香蕉\" + 0.010*\"乳蛋白\" + 0.009*\"蛋白\" + 0.009*\"乳清\" + 0.008*\"德国世家\" + 0.008*\"雅培\" + 0.008*\"桃子\" + 0.008*\"雀巢\" + 0.007*\"芒果\" + 0.007*\"较大\" + 0.007*\"爱智宝\"')\n"
     ]
    }
   ],
   "source": [
    "import numpy as np\n",
    "import pandas as pd\n",
    "import re, os, jieba\n",
    "import csv\n",
    "import gensim\n",
    "from gensim import models\n",
    "from gensim.models import word2vec\n",
    "from gensim import corpora\n",
    "from gensim.models import LdaModel\n",
    "from gensim.corpora import Dictionary\n",
    "import collections\n",
    "from collections import Counter\n",
    "\"\"\"第一步：用正则表达式清洗数据，并去除停用词\"\"\"\n",
    "df = pd.read_csv(\"Section3 item_itemid.csv\",encoding='gbk')\n",
    "df = df[['ID', 'Item']].dropna()  # 删除缺失数据\n",
    "def stopwordslist():\n",
    "    stopwords = [line.strip() for line in open('./Section3 cn_stopwords.txt', encoding='UTF-8').readlines()]\n",
    "    return stopwords\n",
    "def seg_depart(sentence):\n",
    "    jieba.add_word(\"益生元\")\n",
    "    jieba.add_word(\"乳蛋白\")\n",
    "    jieba.add_word(\"维C\")\n",
    "    jieba.add_word(\"英格拉姆\")\n",
    "    jieba.add_word(\"喜力特\")\n",
    "    jieba.add_word(\"心美力\")\n",
    "    jieba.add_word(\"雅漾\")\n",
    "    jieba.add_word(\"锁水\")\n",
    "    jieba.add_word(\"德国世家\")\n",
    "    jieba.add_word(\"芭乐雅\")\n",
    "    jieba.add_word(\"玻尿酸\")\n",
    "    jieba.add_word(\"铂臻\")\n",
    "    jieba.add_word(\"补铁\")\n",
    "    jieba.add_word(\"吸吸乐\")\n",
    "    sentence_depart = jieba.cut(sentence.strip())\n",
    "    stopwords = stopwordslist()\n",
    "    outstr = ''\n",
    "    for word in sentence_depart:\n",
    "        if word not in stopwords and word!=' ':\n",
    "            if not word.isdigit():#过滤掉单独数字\n",
    "                outstr += word\n",
    "                outstr += \"|\"\n",
    "    return outstr.strip('|')\n",
    "def fenciresults():\n",
    "    outfilename = \"Section3 fenci results.csv\"\n",
    "    f = open(outfilename, 'w', newline='', encoding='utf-8-sig')\n",
    "    csv_writer = csv.writer(f)\n",
    "    csv_writer.writerow(['ID', 'Item', 'Item_fenci'])\n",
    "    for IDX, Values in df.iterrows():\n",
    "        ID = Values['ID']\n",
    "        print('ID:', ID)\n",
    "        Item = Values['Item']\n",
    "        print('Item:', Item)\n",
    "        fenci = re.sub('片片', '片', str(Item))\n",
    "        #fenci = re.sub(r'[^\\u4e00-\\u9fa5]+', '', fenci)\n",
    "        fenci_seg = seg_depart(fenci.strip()) #开始分词\n",
    "        print('分词后结果:', fenci_seg)\n",
    "        csv_writer.writerow([str(ID), str(Item), str(fenci_seg)])#保存分词结果\n",
    "    f.close()\n",
    "    print(\"删除停用词,并分词成功！\")\n",
    "\n",
    "def LDA():\n",
    "    allwords = []  # 所有的词汇\n",
    "    train = []  # 所有样本\n",
    "    #df=pd.read_excel(\"./fenci results.csv\")\n",
    "    f = open(\"./Section3 fenci results.csv\", 'r', encoding='utf-8-sig')\n",
    "    reader = csv.reader(f)\n",
    "    i=1\n",
    "    for row in reader:\n",
    "        #print(row)\n",
    "        if i>1:\n",
    "            fenci=row[2]\n",
    "            wordslist=fenci.split('|')\n",
    "            train.append(wordslist)\n",
    "            #print('fenci:',fenci)\n",
    "            #print('wordslist:',wordslist)\n",
    "            for word in wordslist:\n",
    "                allwords.append(word)\n",
    "        i=i+1\n",
    "    #print('train:',train)\n",
    "    dictionary = corpora.Dictionary(train)#\"\"\"构建词频矩阵，训练LDA模型\"\"\"\n",
    "    # corpus[0]: [(0, 1), (1, 1), (2, 1), (3, 1), (4, 1),...]\n",
    "    # corpus是ID化后的结果，每个元素是新闻中的每个词语，在字典中的ID和频率\n",
    "    corpus = [dictionary.doc2bow(text) for text in train]\n",
    "    tfidf = models.TfidfModel(corpus)  # 统计tfidf\n",
    "    corpustfidf = tfidf[corpus]  # 得到每个文本的tfidf向量，稀疏矩阵\n",
    "    K=6#主题数量\n",
    "    lda = LdaModel(corpus=corpustfidf, id2word=dictionary,minimum_probability=pow(0.1,1000), num_topics=K,alpha='auto',eta='auto',iterations=10000, gamma_threshold=0.0001, random_state=0)\n",
    "    topic_list = lda.print_topics(num_topics=K, num_words=30)\n",
    "    print(\"主题的单词分布为：\\n\")\n",
    "    for topic in topic_list:\n",
    "        print(topic)\n",
    "    # 查看dictionary中词频\n",
    "    dictionary.token2id\n",
    "    # 保存lda模型\n",
    "    lda.save('Section3 lda.model')\n",
    "    lda = models.ldamodel.LdaModel.load('Section3 lda.model')\n",
    "fenciresults()\n",
    "LDA()"
   ]
  },
  {
   "cell_type": "code",
   "execution_count": null,
   "metadata": {
    "collapsed": true
   },
   "outputs": [],
   "source": []
  }
 ],
 "metadata": {
  "anaconda-cloud": {},
  "kernelspec": {
   "display_name": "Python 3",
   "language": "python",
   "name": "python3"
  },
  "language_info": {
   "codemirror_mode": {
    "name": "ipython",
    "version": 3
   },
   "file_extension": ".py",
   "mimetype": "text/x-python",
   "name": "python",
   "nbconvert_exporter": "python",
   "pygments_lexer": "ipython3",
   "version": "3.8.8"
  }
 },
 "nbformat": 4,
 "nbformat_minor": 1
}
